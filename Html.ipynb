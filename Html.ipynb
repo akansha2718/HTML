{
  "nbformat": 4,
  "nbformat_minor": 0,
  "metadata": {
    "colab": {
      "provenance": []
    },
    "kernelspec": {
      "name": "python3",
      "display_name": "Python 3"
    },
    "language_info": {
      "name": "python"
    }
  },
  "cells": [
    {
      "cell_type": "code",
      "execution_count": null,
      "metadata": {
        "id": "ebr50NHzBtXa"
      },
      "outputs": [],
      "source": []
    },
    {
      "cell_type": "markdown",
      "source": [
        "# Html\n"
      ],
      "metadata": {
        "id": "uXNIXSWOC4B3"
      }
    },
    {
      "cell_type": "markdown",
      "source": [
        "'''1. Write a simple program in HTML  that displays the heading \"HTML defines the content and structure of your website” on the web browser?'''\n"
      ],
      "metadata": {
        "id": "J9IdR7xpEC8a"
      }
    },
    {
      "cell_type": "markdown",
      "source": [
        "-> <!DOCTYPE html>\n",
        "<html lang=\"en\">\n",
        "<head>\n",
        "    <meta charset=\"UTF-8\">\n",
        "    <meta name=\"viewport\" content= \"width=device-width,initial-scale=1.0\">\n",
        "    <title>My Project</title>\n",
        "</head>\n",
        "<body>\n",
        "    <h2>HTML defines the content and structure of your website</h2>\n",
        "</body>\n",
        "</html>\n",
        "\n",
        "```\n",
        "`# This is formatted as code`\n",
        "```\n",
        "\n"
      ],
      "metadata": {
        "id": "rchO12ZMEL8K"
      }
    },
    {
      "cell_type": "markdown",
      "source": [
        "'''2. Explain the purpose of comments in HTML and provide an example of how to use comments in an HTML\n",
        "document?'''\n",
        "\n",
        "-> Comments in Html Helps Devlopers to understand the code and it also provides some extra information to the code reader.\n",
        "\n",
        "Example :- <!-- This is the example code for the user -->\n"
      ],
      "metadata": {
        "id": "hBwPpiGUF17Y"
      }
    },
    {
      "cell_type": "markdown",
      "source": [
        "'''3. Write an HTML program that includes a heading, a paragraph of text, a horizontal line, and a line break.\n",
        "Arrange these elements to create a simple web page layout?'''\n",
        "\n",
        "-> <!DOCTYPE html>\n",
        "<html lang=\"en\">\n",
        "<head>\n",
        "    <meta charset=\"UTF-8\">\n",
        "    <meta name=\"viewport\" content= \"width=device-width,initial-scale=1.0\">\n",
        "    <title>Web Page Layout</title>\n",
        "</head>\n",
        "<body>\n",
        "    <h1>Welcome to My Web Page</h1>\n",
        "        <p>This is a text which helps user to show the web page layout by using the paragraph tag.</p>\n",
        "        <hr>\n",
        "        <p>This text written after a horizontal line.<br>And this sentence appears after using the break tag.</p>\n",
        "</body>\n",
        "</html>"
      ],
      "metadata": {
        "id": "smkS2F-ILOop"
      }
    },
    {
      "cell_type": "markdown",
      "source": [
        "'''4. Write a short note on Tag and element with an example?'''\n",
        "\n",
        "-> Tags define structure and layout of web pages.\n",
        "Paired or self-closing tags provide instructions to browsers.\n",
        "There are two types of tags -\n",
        "1- Self Closing Tag\n",
        "2- Non Self Closing Tag\n",
        "Example of Tags - <h1>Hello, World!</h1>\n",
        "\n",
        "-> Elements consist of start tag, content, and end tag.\n",
        "Example of Element - <p>this is a paragraph</p>"
      ],
      "metadata": {
        "id": "PYMhp21DO4Ao"
      }
    },
    {
      "cell_type": "markdown",
      "source": [
        "'''4. What is the DOCTYPE Declaration in HTML?'''\n",
        "\n",
        "-> The DOCTYPE declaration in HTML specifies the version of HTML that the\n",
        "   document is written in.\n",
        "   <!DOCTYPE html> declares HTML5 document type."
      ],
      "metadata": {
        "id": "vlKYuvDRqO_s"
      }
    }
  ]
}